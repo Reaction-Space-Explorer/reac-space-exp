{
 "cells": [
  {
   "cell_type": "code",
   "execution_count": 140,
   "metadata": {},
   "outputs": [],
   "source": [
    "import re\n",
    "import os\n",
    "import numpy as np\n",
    "import matplotlib.pyplot as plt\n",
    "from rdkit import Chem\n",
    "from rdkit.Chem.Descriptors import MolWt\n",
    "from rdkit.Chem.MolStandardize import rdMolStandardize\n",
    "enumerator = rdMolStandardize.TautomerEnumerator()\n"
   ]
  },
  {
   "cell_type": "code",
   "execution_count": 141,
   "metadata": {},
   "outputs": [],
   "source": [
    "########################################################### FUNCTIONS BY ITERATIONS #######################################\n",
    "\n",
    "def get_stable_tatuomer(Smiles):\n",
    "    \"\"\" Get Sable Tautoer \"\"\"\n",
    "    try:\n",
    "        tautomer = Chem.CanonSmiles(Chem.MolToSmiles(enumerator.Canonicalize(Chem.MolFromSmiles(Smiles))))\n",
    "    except:\n",
    "        print(f\"Could not find tatuomer for {Smiles}\")\n",
    "        tautomer = Smiles\n",
    "        \n",
    "    return tautomer\n",
    "    \n",
    "def network_iterations(path,Tautomers=False):\n",
    "    \"\"\" Generates a dictionary that saves molecules by Iteration\"\"\"\n",
    "    Network = dict()    # Define an Empty Dictionary\n",
    "    Loaded = 0          # Number of molecules loaded\n",
    "    ### Open file with context handler ###\n",
    "    with open(path, \"r\") as handler:\n",
    "        for line in handler:                     # Iterate over the lines\n",
    "            iteration,smiles = line.split()      # Splite every line: The format is Iteration,moleule  e.g. G1    ccc1c3\n",
    "            try:\n",
    "                if Tautomers:\n",
    "                    CanonicalSmiles = get_stable_tatuomer(smiles)\n",
    "                else:   \n",
    "                    CanonicalSmiles = Chem.CanonSmiles(smiles)\n",
    "            except:\n",
    "                pass\n",
    "\n",
    "            try:\n",
    "                Network[iteration].append(CanonicalSmiles) # Append molecule to iteration list inside Network dictionary\n",
    "                Loaded +=1\n",
    "\n",
    "            except:\n",
    "                Network[iteration] = list()           # If an exception occurs then iteration list does not exxists, create it\n",
    "                Network[iteration].append(CanonicalSmiles) # Append molecule to iteration list inside Network dictionary\n",
    "                Loaded +=1\n",
    "    \n",
    "    print(f\"Iterations: {Network.values().__len__()}, Total Moleules: {Loaded}\")\n",
    "        \n",
    "    return Network\n",
    "\n",
    "\n",
    "                \n",
    "def get_max_mass_iterations(Network):\n",
    "    MaxMass = dict()                                                             # Initiate Dictioanry\n",
    "    for Iteration,SmilesList in zip(Network.keys(),Network.values()):            # Iterate over Network\n",
    "        Mass = max([MolWt(Chem.MolFromSmiles(Smiles)) for Smiles in SmilesList]) # Get Maximum mass at each iteration\n",
    "        MaxMass[Iteration] = Mass                                                # Append it to dictionary\n",
    "        print(f\"Max Molecular Weight for iteration {Iteration}: {Mass}\")\n",
    "        \n",
    "    \n",
    "    return MaxMass\n",
    "\n",
    "###################################################### Functions without database iterations\n",
    "\n",
    "def database(path,MaxMass,Tautomers=False):\n",
    "    \"\"\" Generates a list that saves smiles strings \"\"\"\n",
    "    Ignored = 0\n",
    "    Network = list()                            # Define an Empty Dictionary\n",
    "    Limit = max(MaxMass.values())               # Maxmimum molecular weight of network \n",
    "    ### Open file with context handler ###\n",
    "    with open(path, \"r\") as handler:            # Iterate over handler\n",
    "        for line in handler:                    # Iterate over the lines\n",
    "            smiles = line                       # Splite every line\n",
    "            try:\n",
    "                if Tautomers:\n",
    "                    CanonicalSmiles = get_stable_tatuomer(smiles)\n",
    "                else:   \n",
    "                    CanonicalSmiles = Chem.CanonSmiles(smiles) # Convert smiles to canonical smiles\n",
    "                # Check that molecules is not heavier than heavies molecule in network (we will compare apples to apples)\n",
    "                if MolWt(Chem.MolFromSmiles(CanonicalSmiles)) <= Limit: \n",
    "                    if re.match(\"^[CcOoNn]\",CanonicalSmiles): # If Molecules starts with C,N,O\n",
    "                        Network.append(CanonicalSmiles)       # Append molecule to network if mass is lower than limit\n",
    "                else:\n",
    "                    Ignored +=1 # If not add 1 to ignore counter\n",
    "                    \n",
    "            except:\n",
    "                Ignored +=1   # If there is no canonical smiels, than there must be a typo in string, ingore it \n",
    "            \n",
    "    \n",
    "    print(f\"{Ignored} molecules were ignored out of {len(Network)+Ignored}. Leaving a total of  {len(Network)} Molecules.\")         \n",
    "    return Network\n",
    "\n",
    "\n",
    "#### Compare program ###\n",
    "def compare_networks_database(mod,database,verbose=True,plot=True):\n",
    "    matched = dict()\n",
    "    missed = dict()\n",
    "\n",
    "    for mol2 in database:\n",
    "        for iterations in  mod.keys():\n",
    "            #print(f\" Currently working on Iteration: {iterations}\")\n",
    "            total_set = set(mod[iterations])\n",
    "            for mol in total_set:\n",
    "                #### Capture Matches ####\n",
    "                if mol == mol2:\n",
    "                    try:\n",
    "                        matched[iterations].add(mol) # Append molecule to iteration list inside Network dictionary\n",
    "\n",
    "                    except:\n",
    "                        matched[iterations] = set()    # If an exception occurs then iteration list does not exxists, create it\n",
    "                        matched[iterations].add(mol)   # Append molecule to iteration list inside Network dictionary\n",
    "    \n",
    "    \n",
    "    for iterations in  mod.keys():\n",
    "        total_set    = set(mod[iterations])         # Define Universe for iteration\n",
    "        matched_set  = matched[iterations]          # Get matched set \n",
    "        missed[iterations] = total_set -matched_set # Get Intersection\n",
    "        \n",
    "    \n",
    "    if verbose:\n",
    "        matched_list = list()\n",
    "        unmatched_list = list()\n",
    "        print()\n",
    "        print(\"Summary (Unique Molecules)\")\n",
    "        print(\"-\".center(75,\"-\"))\n",
    "        for iterations in  mod.keys():\n",
    "            print(f\"Iteration {iterations}\")  \n",
    "            matched_set = matched[iterations]\n",
    "            total_set   = set(mod[iterations])\n",
    "            matched_percent = len(matched_set)/len(total_set)*100\n",
    "            print(f\"Molecules Matches: {len(matched_set)} of total {len(total_set)}, percentage: {matched_percent} %\")\n",
    "            matched_list.append(matched_percent)\n",
    "            unmatched = missed[iterations]\n",
    "            missed_percent = len(unmatched)/len(total_set)*100\n",
    "            #{len(missed[iterations])}\n",
    "            print(f\"Molecules Missed: {len(unmatched)} of total {len(total_set)} , percent: {missed_percent} %\")\n",
    "            unmatched_list.append(missed_percent)\n",
    "            print(\"-\".center(75,\"-\"))\n",
    "            print()\n",
    "            \n",
    "    if plot:\n",
    "        \n",
    "      \n",
    "        Matches_sorted = np.log10(np.array([ len(a[1]) for a in  sorted(matched.items())]))\n",
    "        Iterations = range(len(Matches_sorted))\n",
    "        labels =  [ \"G\" + str(i+1) for i in Iterations]\n",
    "        Missed_sorted = np.log10(np.array([ len(a[1]) for a in  sorted(missed.items())]))\n",
    "        Total_sorted  = Matches_sorted + Missed_sorted\n",
    "        Network_sorted = np.log10(np.array([ len(a[1]) for a in  sorted(Network.items())]))\n",
    "\n",
    "        plt.figure(figsize=(10,7))\n",
    "        plt.title(\"Matched/Unmatched molecules through iterations\")\n",
    "        plt.xlabel(\"Iterations\",fontsize=12)\n",
    "        plt.ylabel(\"Number of Molecules (log10)\",fontsize=12)\n",
    "        plt.plot(Matches_sorted,\"--g\",label=\"Matched molecules\")\n",
    "        plt.plot(Network_sorted,\"--y\",label=\"Network molecules\")\n",
    "        i=0\n",
    "        for match,percent in zip(Matches_sorted,matched_list):\n",
    "            plt.text(i-0.1,match+0.2,str(round(percent,2)) + \"%\",fontsize=12)\n",
    "            i+=1\n",
    "        plt.xticks(Iterations,labels)\n",
    "        plt.legend(loc=\"best\")\n",
    "        plt.grid()\n",
    "        plt.show()\n",
    "\n",
    "\n",
    "    return matched,missed,matched_list,unmatched_list"
   ]
  },
  {
   "cell_type": "code",
   "execution_count": 3,
   "metadata": {},
   "outputs": [
    {
     "name": "stdout",
     "output_type": "stream",
     "text": [
      "Iterations: 5, Total Moleules: 43231\n"
     ]
    }
   ],
   "source": [
    "path = \"Datasets/glucose_degradation_output.txt\"\n",
    "Network =  network_iterations(path,Tautomers=False)"
   ]
  },
  {
   "cell_type": "code",
   "execution_count": 138,
   "metadata": {},
   "outputs": [
    {
     "name": "stdout",
     "output_type": "stream",
     "text": [
      "Iterations: 5, Total Moleules: 43231\n"
     ]
    }
   ],
   "source": [
    "path = \"Datasets/glucose_degradation_output.txt\"\n",
    "Network =  network_iterations(path,Tautomers=True)"
   ]
  },
  {
   "cell_type": "code",
   "execution_count": 4,
   "metadata": {},
   "outputs": [
    {
     "name": "stdout",
     "output_type": "stream",
     "text": [
      "Max Molecular Weight for iteration G1: 196.155\n",
      "Max Molecular Weight for iteration G2: 180.156\n",
      "Max Molecular Weight for iteration G3: 196.155\n",
      "Max Molecular Weight for iteration G4: 198.174\n",
      "Max Molecular Weight for iteration G5: 198.21800000000002\n"
     ]
    }
   ],
   "source": [
    "MaxMass =  get_max_mass_iterations(Network)"
   ]
  },
  {
   "cell_type": "code",
   "execution_count": 5,
   "metadata": {},
   "outputs": [
    {
     "name": "stdout",
     "output_type": "stream",
     "text": [
      "12298 molecules were ignored out of 15710. Leaving a total of  3412 Molecules.\n"
     ]
    }
   ],
   "source": [
    "path =  \"Datasets/HarrisonDataAugust2019_molescules.csv\"\n",
    "Database = database(path,MaxMass,Tautomers=False)"
   ]
  },
  {
   "cell_type": "code",
   "execution_count": 142,
   "metadata": {},
   "outputs": [
    {
     "name": "stdout",
     "output_type": "stream",
     "text": [
      "\n",
      "Summary (Unique Molecules)\n",
      "---------------------------------------------------------------------------\n",
      "Iteration G1\n",
      "Molecules Matches: 2 of total 16, percentage: 12.5 %\n",
      "Molecules Missed: 14 of total 16 , percent: 87.5 %\n",
      "---------------------------------------------------------------------------\n",
      "\n",
      "Iteration G2\n",
      "Molecules Matches: 9 of total 108, percentage: 8.333333333333332 %\n",
      "Molecules Missed: 99 of total 108 , percent: 91.66666666666666 %\n",
      "---------------------------------------------------------------------------\n",
      "\n",
      "Iteration G3\n",
      "Molecules Matches: 14 of total 907, percentage: 1.5435501653803747 %\n",
      "Molecules Missed: 893 of total 907 , percent: 98.45644983461963 %\n",
      "---------------------------------------------------------------------------\n",
      "\n",
      "Iteration G4\n",
      "Molecules Matches: 26 of total 6213, percentage: 0.41847738612586516 %\n",
      "Molecules Missed: 6187 of total 6213 , percent: 99.58152261387413 %\n",
      "---------------------------------------------------------------------------\n",
      "\n",
      "Iteration G5\n",
      "Molecules Matches: 28 of total 35987, percentage: 0.07780587434351294 %\n",
      "Molecules Missed: 35959 of total 35987 , percent: 99.92219412565649 %\n",
      "---------------------------------------------------------------------------\n",
      "\n"
     ]
    },
    {
     "data": {
      "image/png": "[encoded data removed]",
      "text/plain": [
       "<Figure size 720x504 with 1 Axes>"
      ]
     },
     "metadata": {
      "needs_background": "light"
     },
     "output_type": "display_data"
    }
   ],
   "source": [
    "matched,missed,matched_list,unmatched_list = compare_networks_database(Network ,Database,verbose=True)"
   ]
  },
  {
   "cell_type": "code",
   "execution_count": null,
   "metadata": {},
   "outputs": [],
   "source": [
    "os."
   ]
  }
 ],
 "metadata": {
  "kernelspec": {
   "display_name": "my-rdkit-env",
   "language": "python",
   "name": "my-rdkit-env"
  },
  "language_info": {
   "codemirror_mode": {
    "name": "ipython",
    "version": 3
   },
   "file_extension": ".py",
   "mimetype": "text/x-python",
   "name": "python",
   "nbconvert_exporter": "python",
   "pygments_lexer": "ipython3",
   "version": "3.7.7"
  }
 },
 "nbformat": 4,
 "nbformat_minor": 4
}
