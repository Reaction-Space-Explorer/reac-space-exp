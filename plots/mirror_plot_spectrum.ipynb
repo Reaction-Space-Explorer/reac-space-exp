{
 "cells": [
  {
   "cell_type": "code",
   "execution_count": 26,
   "metadata": {},
   "outputs": [],
   "source": [
    "import pandas as pd\n",
    "import matplotlib.pyplot as plt\n",
    "import numpy as np\n",
    "from rdkit.Chem import MolFromSmiles\n",
    "from rdkit.Chem.Descriptors import ExactMolWt"
   ]
  },
  {
   "cell_type": "code",
   "execution_count": 111,
   "metadata": {},
   "outputs": [
    {
     "name": "stdout",
     "output_type": "stream",
     "text": [
      "Index(['Peak Number', 'Mass', 'Rel. Abundance', 'Kendrick Mass', 'Nom. Mass',\n",
      "       'KMD', 'Molecular Formula'],\n",
      "      dtype='object')\n"
     ]
    }
   ],
   "source": [
    "df = pd.read_csv(\"glucose_dry_impcols.csv\")#39_Formose reaction_MeOH.csv\n",
    "print(df.columns)"
   ]
  },
  {
   "cell_type": "code",
   "execution_count": 112,
   "metadata": {
    "scrolled": true
   },
   "outputs": [
    {
     "data": {
      "text/html": [
       "<div>\n",
       "<style scoped>\n",
       "    .dataframe tbody tr th:only-of-type {\n",
       "        vertical-align: middle;\n",
       "    }\n",
       "\n",
       "    .dataframe tbody tr th {\n",
       "        vertical-align: top;\n",
       "    }\n",
       "\n",
       "    .dataframe thead th {\n",
       "        text-align: right;\n",
       "    }\n",
       "</style>\n",
       "<table border=\"1\" class=\"dataframe\">\n",
       "  <thead>\n",
       "    <tr style=\"text-align: right;\">\n",
       "      <th></th>\n",
       "      <th>Peak Number</th>\n",
       "      <th>Mass</th>\n",
       "      <th>Rel. Abundance</th>\n",
       "      <th>Kendrick Mass</th>\n",
       "      <th>Nom. Mass</th>\n",
       "      <th>KMD</th>\n",
       "      <th>Molecular Formula</th>\n",
       "    </tr>\n",
       "  </thead>\n",
       "  <tbody>\n",
       "    <tr>\n",
       "      <th>0</th>\n",
       "      <td>1</td>\n",
       "      <td>514.28440</td>\n",
       "      <td>22.4919</td>\n",
       "      <td>513.7102</td>\n",
       "      <td>514.0</td>\n",
       "      <td>290.0</td>\n",
       "      <td></td>\n",
       "    </tr>\n",
       "    <tr>\n",
       "      <th>1</th>\n",
       "      <td>2</td>\n",
       "      <td>226.06495</td>\n",
       "      <td>0.9022</td>\n",
       "      <td>225.8125</td>\n",
       "      <td>226.0</td>\n",
       "      <td>187.0</td>\n",
       "      <td></td>\n",
       "    </tr>\n",
       "    <tr>\n",
       "      <th>2</th>\n",
       "      <td>3</td>\n",
       "      <td>240.08060</td>\n",
       "      <td>1.0122</td>\n",
       "      <td>239.8125</td>\n",
       "      <td>240.0</td>\n",
       "      <td>187.0</td>\n",
       "      <td></td>\n",
       "    </tr>\n",
       "    <tr>\n",
       "      <th>3</th>\n",
       "      <td>4</td>\n",
       "      <td>436.29970</td>\n",
       "      <td>11.7966</td>\n",
       "      <td>435.8125</td>\n",
       "      <td>436.0</td>\n",
       "      <td>187.0</td>\n",
       "      <td></td>\n",
       "    </tr>\n",
       "    <tr>\n",
       "      <th>4</th>\n",
       "      <td>5</td>\n",
       "      <td>464.33100</td>\n",
       "      <td>13.2206</td>\n",
       "      <td>463.8126</td>\n",
       "      <td>464.0</td>\n",
       "      <td>187.0</td>\n",
       "      <td></td>\n",
       "    </tr>\n",
       "  </tbody>\n",
       "</table>\n",
       "</div>"
      ],
      "text/plain": [
       "  Peak Number       Mass  Rel. Abundance  Kendrick Mass  Nom. Mass    KMD  \\\n",
       "0           1  514.28440         22.4919       513.7102      514.0  290.0   \n",
       "1           2  226.06495          0.9022       225.8125      226.0  187.0   \n",
       "2           3  240.08060          1.0122       239.8125      240.0  187.0   \n",
       "3           4  436.29970         11.7966       435.8125      436.0  187.0   \n",
       "4           5  464.33100         13.2206       463.8126      464.0  187.0   \n",
       "\n",
       "  Molecular Formula  \n",
       "0                    \n",
       "1                    \n",
       "2                    \n",
       "3                    \n",
       "4                    "
      ]
     },
     "execution_count": 112,
     "metadata": {},
     "output_type": "execute_result"
    }
   ],
   "source": [
    "# first get rid of empty lines in the mass list by replacing with ''\n",
    "df.replace('', np.nan, inplace=True)\n",
    "# also, some 'Mass' values are not numbers\n",
    "df.dropna(subset=['Mass'], inplace=True)\n",
    "# now replace NaNs with '' to avoid weird errors\n",
    "df.fillna('', inplace=True)\n",
    "df.shape\n",
    "df.head()\n"
   ]
  },
  {
   "cell_type": "code",
   "execution_count": 113,
   "metadata": {},
   "outputs": [
    {
     "name": "stdout",
     "output_type": "stream",
     "text": [
      "125 items in [226.06495, 240.0806, 208.05439, 222.07004, 238.06495, 242.05176, 216.03616, 224.0412, 236.07758, 213.96383, 198.02561, 225.0616, 239.07724, 235.04595, 249.06159, 227.20167, 241.21731, 193.03539, 207.05104, 221.06668, 235.08233, 179.05613, 223.02482, 237.04047, 241.03539, 195.05104, 223.04595, 237.0616, 205.01426, 219.02991, 233.04555, 217.03538, 231.05103, 245.06668, 195.02992, 209.04556, 223.06121, 177.01936, 191.035, 205.05065, 233.08194, 213.04047, 227.05612, 241.07177, 247.02481, 207.02991, 221.04556, 235.0612, 205.03539, 219.05104, 233.06669, 247.08233, 225.04047, 239.05612, 243.0299, 231.0299, 245.04555, 235.02482, 249.04046, 161.04557, 243.05104, 189.01935, 203.035, 217.05064, 245.08194, 177.04049, 179.03501, 193.05065, 207.0663, 227.06584, 241.08149, 199.04009, 227.07138, 241.08702, 247.0612, 227.03499, 241.05064, 183.02992, 197.04556, 211.06121, 225.07686, 175.04009, 189.05574, 217.08702, 201.04048, 215.05612, 243.08741, 219.06629, 181.05066, 195.0663, 209.08195, 215.03499, 243.06629, 231.06629, 223.07094, 249.07685, 177.05574, 237.07685, 229.05064, 185.04557, 199.06122, 175.02484, 189.04049, 203.05613, 231.08742, 191.05613, 225.05573, 239.07137, 221.08195, 179.07139, 229.07177, 187.04009, 201.05573, 229.08701, 217.07177, 215.07138, 237.05572, 203.07138, 183.0663, 197.08195, 191.07138, 213.07686, 213.05573, 185.01255, 187.06122]\n"
     ]
    }
   ],
   "source": [
    "# make a list of exact mass and relative abundance.\n",
    "mass_list = []\n",
    "rel_abundance = []\n",
    "for i in range(len(df)):\n",
    "    # allow entire spectrum for this one\n",
    "    if float(df['Mass'].iloc[i]) < 250 and \"No Hit\" not in df['Molecular Formula'].iloc[i]:\n",
    "        mass_list.append(float(df['Mass'].iloc[i]))\n",
    "        rel_abundance.append(float(df['Rel. Abundance'].iloc[i]))\n",
    "# now, \"renormalize\" the relative abundance.\n",
    "highest = max(rel_abundance)\n",
    "norm_factor = 100.0/highest\n",
    "normalized_abun = []\n",
    "for ab in rel_abundance:\n",
    "    normalized_abun.append(norm_factor*ab)\n",
    "print(f'{len(mass_list)} items in {mass_list}')\n"
   ]
  },
  {
   "cell_type": "code",
   "execution_count": 115,
   "metadata": {},
   "outputs": [
    {
     "ename": "ValueError",
     "evalue": "Length of values (192004) does not match length of index (48403)",
     "output_type": "error",
     "traceback": [
      "\u001b[0;31m---------------------------------------------------------------------------\u001b[0m",
      "\u001b[0;31mValueError\u001b[0m                                Traceback (most recent call last)",
      "\u001b[0;32m<ipython-input-115-3448e4fb1dc0>\u001b[0m in \u001b[0;36m<module>\u001b[0;34m\u001b[0m\n\u001b[1;32m      8\u001b[0m     \u001b[0mmol_wt\u001b[0m \u001b[0;34m=\u001b[0m \u001b[0mExactMolWt\u001b[0m\u001b[0;34m(\u001b[0m\u001b[0mmol\u001b[0m\u001b[0;34m)\u001b[0m\u001b[0;34m\u001b[0m\u001b[0;34m\u001b[0m\u001b[0m\n\u001b[1;32m      9\u001b[0m     \u001b[0msim_masses\u001b[0m\u001b[0;34m.\u001b[0m\u001b[0mappend\u001b[0m\u001b[0;34m(\u001b[0m\u001b[0mmol_wt\u001b[0m\u001b[0;34m)\u001b[0m\u001b[0;34m\u001b[0m\u001b[0;34m\u001b[0m\u001b[0m\n\u001b[0;32m---> 10\u001b[0;31m \u001b[0mdata_mod\u001b[0m\u001b[0;34m[\u001b[0m\u001b[0;34m'Mol Wt'\u001b[0m\u001b[0;34m]\u001b[0m \u001b[0;34m=\u001b[0m \u001b[0msim_masses\u001b[0m\u001b[0;34m\u001b[0m\u001b[0;34m\u001b[0m\u001b[0m\n\u001b[0m",
      "\u001b[0;32m~/miniconda3/lib/python3.8/site-packages/pandas/core/frame.py\u001b[0m in \u001b[0;36m__setitem__\u001b[0;34m(self, key, value)\u001b[0m\n\u001b[1;32m   3161\u001b[0m         \u001b[0;32melse\u001b[0m\u001b[0;34m:\u001b[0m\u001b[0;34m\u001b[0m\u001b[0;34m\u001b[0m\u001b[0m\n\u001b[1;32m   3162\u001b[0m             \u001b[0;31m# set column\u001b[0m\u001b[0;34m\u001b[0m\u001b[0;34m\u001b[0m\u001b[0;34m\u001b[0m\u001b[0m\n\u001b[0;32m-> 3163\u001b[0;31m             \u001b[0mself\u001b[0m\u001b[0;34m.\u001b[0m\u001b[0m_set_item\u001b[0m\u001b[0;34m(\u001b[0m\u001b[0mkey\u001b[0m\u001b[0;34m,\u001b[0m \u001b[0mvalue\u001b[0m\u001b[0;34m)\u001b[0m\u001b[0;34m\u001b[0m\u001b[0;34m\u001b[0m\u001b[0m\n\u001b[0m\u001b[1;32m   3164\u001b[0m \u001b[0;34m\u001b[0m\u001b[0m\n\u001b[1;32m   3165\u001b[0m     \u001b[0;32mdef\u001b[0m \u001b[0m_setitem_slice\u001b[0m\u001b[0;34m(\u001b[0m\u001b[0mself\u001b[0m\u001b[0;34m,\u001b[0m \u001b[0mkey\u001b[0m\u001b[0;34m:\u001b[0m \u001b[0mslice\u001b[0m\u001b[0;34m,\u001b[0m \u001b[0mvalue\u001b[0m\u001b[0;34m)\u001b[0m\u001b[0;34m:\u001b[0m\u001b[0;34m\u001b[0m\u001b[0;34m\u001b[0m\u001b[0m\n",
      "\u001b[0;32m~/miniconda3/lib/python3.8/site-packages/pandas/core/frame.py\u001b[0m in \u001b[0;36m_set_item\u001b[0;34m(self, key, value)\u001b[0m\n\u001b[1;32m   3240\u001b[0m         \"\"\"\n\u001b[1;32m   3241\u001b[0m         \u001b[0mself\u001b[0m\u001b[0;34m.\u001b[0m\u001b[0m_ensure_valid_index\u001b[0m\u001b[0;34m(\u001b[0m\u001b[0mvalue\u001b[0m\u001b[0;34m)\u001b[0m\u001b[0;34m\u001b[0m\u001b[0;34m\u001b[0m\u001b[0m\n\u001b[0;32m-> 3242\u001b[0;31m         \u001b[0mvalue\u001b[0m \u001b[0;34m=\u001b[0m \u001b[0mself\u001b[0m\u001b[0;34m.\u001b[0m\u001b[0m_sanitize_column\u001b[0m\u001b[0;34m(\u001b[0m\u001b[0mkey\u001b[0m\u001b[0;34m,\u001b[0m \u001b[0mvalue\u001b[0m\u001b[0;34m)\u001b[0m\u001b[0;34m\u001b[0m\u001b[0;34m\u001b[0m\u001b[0m\n\u001b[0m\u001b[1;32m   3243\u001b[0m         \u001b[0mNDFrame\u001b[0m\u001b[0;34m.\u001b[0m\u001b[0m_set_item\u001b[0m\u001b[0;34m(\u001b[0m\u001b[0mself\u001b[0m\u001b[0;34m,\u001b[0m \u001b[0mkey\u001b[0m\u001b[0;34m,\u001b[0m \u001b[0mvalue\u001b[0m\u001b[0;34m)\u001b[0m\u001b[0;34m\u001b[0m\u001b[0;34m\u001b[0m\u001b[0m\n\u001b[1;32m   3244\u001b[0m \u001b[0;34m\u001b[0m\u001b[0m\n",
      "\u001b[0;32m~/miniconda3/lib/python3.8/site-packages/pandas/core/frame.py\u001b[0m in \u001b[0;36m_sanitize_column\u001b[0;34m(self, key, value, broadcast)\u001b[0m\n\u001b[1;32m   3897\u001b[0m \u001b[0;34m\u001b[0m\u001b[0m\n\u001b[1;32m   3898\u001b[0m             \u001b[0;31m# turn me into an ndarray\u001b[0m\u001b[0;34m\u001b[0m\u001b[0;34m\u001b[0m\u001b[0;34m\u001b[0m\u001b[0m\n\u001b[0;32m-> 3899\u001b[0;31m             \u001b[0mvalue\u001b[0m \u001b[0;34m=\u001b[0m \u001b[0msanitize_index\u001b[0m\u001b[0;34m(\u001b[0m\u001b[0mvalue\u001b[0m\u001b[0;34m,\u001b[0m \u001b[0mself\u001b[0m\u001b[0;34m.\u001b[0m\u001b[0mindex\u001b[0m\u001b[0;34m)\u001b[0m\u001b[0;34m\u001b[0m\u001b[0;34m\u001b[0m\u001b[0m\n\u001b[0m\u001b[1;32m   3900\u001b[0m             \u001b[0;32mif\u001b[0m \u001b[0;32mnot\u001b[0m \u001b[0misinstance\u001b[0m\u001b[0;34m(\u001b[0m\u001b[0mvalue\u001b[0m\u001b[0;34m,\u001b[0m \u001b[0;34m(\u001b[0m\u001b[0mnp\u001b[0m\u001b[0;34m.\u001b[0m\u001b[0mndarray\u001b[0m\u001b[0;34m,\u001b[0m \u001b[0mIndex\u001b[0m\u001b[0;34m)\u001b[0m\u001b[0;34m)\u001b[0m\u001b[0;34m:\u001b[0m\u001b[0;34m\u001b[0m\u001b[0;34m\u001b[0m\u001b[0m\n\u001b[1;32m   3901\u001b[0m                 \u001b[0;32mif\u001b[0m \u001b[0misinstance\u001b[0m\u001b[0;34m(\u001b[0m\u001b[0mvalue\u001b[0m\u001b[0;34m,\u001b[0m \u001b[0mlist\u001b[0m\u001b[0;34m)\u001b[0m \u001b[0;32mand\u001b[0m \u001b[0mlen\u001b[0m\u001b[0;34m(\u001b[0m\u001b[0mvalue\u001b[0m\u001b[0;34m)\u001b[0m \u001b[0;34m>\u001b[0m \u001b[0;36m0\u001b[0m\u001b[0;34m:\u001b[0m\u001b[0;34m\u001b[0m\u001b[0;34m\u001b[0m\u001b[0m\n",
      "\u001b[0;32m~/miniconda3/lib/python3.8/site-packages/pandas/core/internals/construction.py\u001b[0m in \u001b[0;36msanitize_index\u001b[0;34m(data, index)\u001b[0m\n\u001b[1;32m    749\u001b[0m     \"\"\"\n\u001b[1;32m    750\u001b[0m     \u001b[0;32mif\u001b[0m \u001b[0mlen\u001b[0m\u001b[0;34m(\u001b[0m\u001b[0mdata\u001b[0m\u001b[0;34m)\u001b[0m \u001b[0;34m!=\u001b[0m \u001b[0mlen\u001b[0m\u001b[0;34m(\u001b[0m\u001b[0mindex\u001b[0m\u001b[0;34m)\u001b[0m\u001b[0;34m:\u001b[0m\u001b[0;34m\u001b[0m\u001b[0;34m\u001b[0m\u001b[0m\n\u001b[0;32m--> 751\u001b[0;31m         raise ValueError(\n\u001b[0m\u001b[1;32m    752\u001b[0m             \u001b[0;34m\"Length of values \"\u001b[0m\u001b[0;34m\u001b[0m\u001b[0;34m\u001b[0m\u001b[0m\n\u001b[1;32m    753\u001b[0m             \u001b[0;34mf\"({len(data)}) \"\u001b[0m\u001b[0;34m\u001b[0m\u001b[0;34m\u001b[0m\u001b[0m\n",
      "\u001b[0;31mValueError\u001b[0m: Length of values (192004) does not match length of index (48403)"
     ]
    }
   ],
   "source": [
    "# formose MOD output\n",
    "# ../main/formose/formose_output.txt\n",
    "data_mod = pd.read_csv('../main/glucose/glucose_degradation_output_10mar.txt', sep='\\t', names=['Generation', 'SMILES'])\n",
    "sim_masses = []\n",
    "for i in range(len(formose_mod)):\n",
    "    row = formose_mod.iloc[i]\n",
    "    mol = MolFromSmiles(row['SMILES'])\n",
    "    mol_wt = ExactMolWt(mol)\n",
    "    sim_masses.append(mol_wt)\n",
    "data_mod['Mol Wt'] = sim_masses"
   ]
  },
  {
   "cell_type": "code",
   "execution_count": null,
   "metadata": {
    "scrolled": true
   },
   "outputs": [],
   "source": [
    "unique_sim_masses = list(set(sim_masses))\n",
    "unique_mass_freq = [sim_masses.count(mass) for mass in unique_sim_masses]\n",
    "highest_freq = max(unique_mass_freq)\n",
    "\n",
    "norm_freq = [100*(freq/highest_freq) for freq in unique_mass_freq]\n",
    "\n",
    "print('Unique masses:',len(unique_sim_masses))\n",
    "print('Frequency of each mass', unique_mass_freq)"
   ]
  },
  {
   "cell_type": "code",
   "execution_count": null,
   "metadata": {
    "scrolled": true
   },
   "outputs": [],
   "source": []
  },
  {
   "cell_type": "code",
   "execution_count": null,
   "metadata": {},
   "outputs": [],
   "source": [
    "print(unique_sim_masses)"
   ]
  },
  {
   "cell_type": "code",
   "execution_count": null,
   "metadata": {},
   "outputs": [],
   "source": [
    "from matplotlib import rc\n",
    "\n",
    "# Use LaTeX and CMU Serif font.\n",
    "rc('text', usetex=True)\n",
    "rc('font', **{'family': 'serif', 'serif': ['Computer Modern']})"
   ]
  },
  {
   "cell_type": "code",
   "execution_count": null,
   "metadata": {},
   "outputs": [],
   "source": [
    "# for some flexibility, create a container for the figure\n",
    "fig, axes = plt.subplots(nrows=2, ncols=1, figsize=(6, 12), sharex=True) # create a figure object\n",
    "#ax = fig.add_subplot(111) # create an axis object\n",
    "\n",
    "# first, draw the experimental spectrum\n",
    "axes[0].vlines(x=mass_list, ymin=0, ymax=normalized_abun, color='cornflowerblue')\n",
    "\n",
    "# now the CNRN\n",
    "axes[1].vlines(x=unique_sim_masses, ymin=0, ymax=norm_freq, color='deeppink')\n",
    "\n",
    "#plt.bar(mass_list, rel_abundance, width=0.5)\n",
    "axes[0].set_yscale('log')\n",
    "axes[1].set_yscale('log')\n",
    "axes[0].set_ylim([0.875, 125])\n",
    "axes[1].set_ylim([0.875, 125])\n",
    "plt.gca().invert_yaxis()\n",
    "plt.xlim(155, 205)\n",
    "plt.xlabel('Exact Mass')\n",
    "#plt.ylabel('Normalized Abundance')\n",
    "plt.tight_layout()\n",
    "plt.subplots_adjust(wspace=0, hspace=0)\n",
    "plt.savefig('glucose_mirror_plot.jpg', dpi=300)\n",
    "plt.show()"
   ]
  },
  {
   "cell_type": "code",
   "execution_count": null,
   "metadata": {},
   "outputs": [],
   "source": []
  },
  {
   "cell_type": "code",
   "execution_count": null,
   "metadata": {},
   "outputs": [],
   "source": []
  }
 ],
 "metadata": {
  "kernelspec": {
   "display_name": "Python 3",
   "language": "python",
   "name": "python3"
  },
  "language_info": {
   "codemirror_mode": {
    "name": "ipython",
    "version": 3
   },
   "file_extension": ".py",
   "mimetype": "text/x-python",
   "name": "python",
   "nbconvert_exporter": "python",
   "pygments_lexer": "ipython3",
   "version": "3.8.5"
  }
 },
 "nbformat": 4,
 "nbformat_minor": 4
}
