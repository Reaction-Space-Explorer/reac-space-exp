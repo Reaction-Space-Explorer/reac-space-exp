{
 "cells": [
  {
   "cell_type": "code",
   "execution_count": 26,
   "metadata": {},
   "outputs": [],
   "source": [
    "import pandas as pd\n",
    "import matplotlib.pyplot as plt\n",
    "import numpy as np\n",
    "from rdkit.Chem import MolFromSmiles\n",
    "from rdkit.Chem.Descriptors import ExactMolWt"
   ]
  },
  {
   "cell_type": "code",
   "execution_count": 116,
   "metadata": {},
   "outputs": [
    {
     "name": "stdout",
     "output_type": "stream",
     "text": [
      "Index(['Mass', 'Rel. Abundance', 'Molecular Formula', 'Carbon', 'C count',\n",
      "       'Hydrogen', 'H count', 'Nitrogen', 'N count', 'Oxygen', 'O Count',\n",
      "       'Sulphur', 'S count', 'Carbon-13', 'C13 count', 'Sulphur-34',\n",
      "       'S34 Count', 'Unnamed: 17'],\n",
      "      dtype='object')\n"
     ]
    }
   ],
   "source": [
    "df = pd.read_csv(\"39_Formose reaction_MeOH.csv\")#glucose_dry_impcols.csv\n",
    "print(df.columns)"
   ]
  },
  {
   "cell_type": "code",
   "execution_count": 117,
   "metadata": {
    "scrolled": true
   },
   "outputs": [
    {
     "data": {
      "text/html": [
       "<div>\n",
       "<style scoped>\n",
       "    .dataframe tbody tr th:only-of-type {\n",
       "        vertical-align: middle;\n",
       "    }\n",
       "\n",
       "    .dataframe tbody tr th {\n",
       "        vertical-align: top;\n",
       "    }\n",
       "\n",
       "    .dataframe thead th {\n",
       "        text-align: right;\n",
       "    }\n",
       "</style>\n",
       "<table border=\"1\" class=\"dataframe\">\n",
       "  <thead>\n",
       "    <tr style=\"text-align: right;\">\n",
       "      <th></th>\n",
       "      <th>Mass</th>\n",
       "      <th>Rel. Abundance</th>\n",
       "      <th>Molecular Formula</th>\n",
       "      <th>Carbon</th>\n",
       "      <th>C count</th>\n",
       "      <th>Hydrogen</th>\n",
       "      <th>H count</th>\n",
       "      <th>Nitrogen</th>\n",
       "      <th>N count</th>\n",
       "      <th>Oxygen</th>\n",
       "      <th>O Count</th>\n",
       "      <th>Sulphur</th>\n",
       "      <th>S count</th>\n",
       "      <th>Carbon-13</th>\n",
       "      <th>C13 count</th>\n",
       "      <th>Sulphur-34</th>\n",
       "      <th>S34 Count</th>\n",
       "      <th>Unnamed: 17</th>\n",
       "    </tr>\n",
       "  </thead>\n",
       "  <tbody>\n",
       "    <tr>\n",
       "      <th>0</th>\n",
       "      <td>514.28440</td>\n",
       "      <td>68.8455</td>\n",
       "      <td></td>\n",
       "      <td>C</td>\n",
       "      <td>26.0</td>\n",
       "      <td>H</td>\n",
       "      <td>44.0</td>\n",
       "      <td>N</td>\n",
       "      <td>1.0</td>\n",
       "      <td>O</td>\n",
       "      <td>7.0</td>\n",
       "      <td>S</td>\n",
       "      <td>1.0</td>\n",
       "      <td></td>\n",
       "      <td></td>\n",
       "      <td></td>\n",
       "      <td></td>\n",
       "      <td></td>\n",
       "    </tr>\n",
       "    <tr>\n",
       "      <th>1</th>\n",
       "      <td>276.05946</td>\n",
       "      <td>0.5320</td>\n",
       "      <td>*</td>\n",
       "      <td>C</td>\n",
       "      <td>13.0</td>\n",
       "      <td>H</td>\n",
       "      <td>11.0</td>\n",
       "      <td></td>\n",
       "      <td></td>\n",
       "      <td>O</td>\n",
       "      <td>6.0</td>\n",
       "      <td></td>\n",
       "      <td></td>\n",
       "      <td>13C</td>\n",
       "      <td>1.0</td>\n",
       "      <td></td>\n",
       "      <td></td>\n",
       "      <td></td>\n",
       "    </tr>\n",
       "    <tr>\n",
       "      <th>2</th>\n",
       "      <td>290.07511</td>\n",
       "      <td>2.6118</td>\n",
       "      <td>*</td>\n",
       "      <td>C</td>\n",
       "      <td>14.0</td>\n",
       "      <td>H</td>\n",
       "      <td>13.0</td>\n",
       "      <td></td>\n",
       "      <td></td>\n",
       "      <td>O</td>\n",
       "      <td>6.0</td>\n",
       "      <td></td>\n",
       "      <td></td>\n",
       "      <td>13C</td>\n",
       "      <td>1.0</td>\n",
       "      <td></td>\n",
       "      <td></td>\n",
       "      <td></td>\n",
       "    </tr>\n",
       "    <tr>\n",
       "      <th>3</th>\n",
       "      <td>304.09076</td>\n",
       "      <td>6.3988</td>\n",
       "      <td>*</td>\n",
       "      <td>C</td>\n",
       "      <td>15.0</td>\n",
       "      <td>H</td>\n",
       "      <td>15.0</td>\n",
       "      <td></td>\n",
       "      <td></td>\n",
       "      <td>O</td>\n",
       "      <td>6.0</td>\n",
       "      <td></td>\n",
       "      <td></td>\n",
       "      <td>13C</td>\n",
       "      <td>1.0</td>\n",
       "      <td></td>\n",
       "      <td></td>\n",
       "      <td></td>\n",
       "    </tr>\n",
       "    <tr>\n",
       "      <th>4</th>\n",
       "      <td>318.10640</td>\n",
       "      <td>9.5062</td>\n",
       "      <td>*</td>\n",
       "      <td>C</td>\n",
       "      <td>16.0</td>\n",
       "      <td>H</td>\n",
       "      <td>17.0</td>\n",
       "      <td></td>\n",
       "      <td></td>\n",
       "      <td>O</td>\n",
       "      <td>6.0</td>\n",
       "      <td></td>\n",
       "      <td></td>\n",
       "      <td>13C</td>\n",
       "      <td>1.0</td>\n",
       "      <td></td>\n",
       "      <td></td>\n",
       "      <td></td>\n",
       "    </tr>\n",
       "  </tbody>\n",
       "</table>\n",
       "</div>"
      ],
      "text/plain": [
       "        Mass  Rel. Abundance Molecular Formula Carbon C count Hydrogen  \\\n",
       "0  514.28440         68.8455                        C    26.0        H   \n",
       "1  276.05946          0.5320                 *      C    13.0        H   \n",
       "2  290.07511          2.6118                 *      C    14.0        H   \n",
       "3  304.09076          6.3988                 *      C    15.0        H   \n",
       "4  318.10640          9.5062                 *      C    16.0        H   \n",
       "\n",
       "  H count Nitrogen N count Oxygen O Count Sulphur S count Carbon-13 C13 count  \\\n",
       "0    44.0        N     1.0      O     7.0       S     1.0                       \n",
       "1    11.0                       O     6.0                       13C       1.0   \n",
       "2    13.0                       O     6.0                       13C       1.0   \n",
       "3    15.0                       O     6.0                       13C       1.0   \n",
       "4    17.0                       O     6.0                       13C       1.0   \n",
       "\n",
       "  Sulphur-34 S34 Count Unnamed: 17  \n",
       "0                                   \n",
       "1                                   \n",
       "2                                   \n",
       "3                                   \n",
       "4                                   "
      ]
     },
     "execution_count": 117,
     "metadata": {},
     "output_type": "execute_result"
    }
   ],
   "source": [
    "# first get rid of empty lines in the mass list by replacing with ''\n",
    "df.replace('', np.nan, inplace=True)\n",
    "# also, some 'Mass' values are not numbers\n",
    "df.dropna(subset=['Mass'], inplace=True)\n",
    "# now replace NaNs with '' to avoid weird errors\n",
    "df.fillna('', inplace=True)\n",
    "df.shape\n",
    "df.head()\n"
   ]
  },
  {
   "cell_type": "code",
   "execution_count": 118,
   "metadata": {},
   "outputs": [
    {
     "name": "stdout",
     "output_type": "stream",
     "text": [
      "246 items in [234.0489, 248.06455, 222.0489, 236.06455, 192.03836, 206.054, 220.06964, 234.08529, 240.05946, 244.06963, 210.04891, 224.06455, 238.0802, 180.03836, 194.05401, 208.06965, 222.08529, 218.05399, 232.06964, 246.08528, 178.0591, 192.07474, 220.10603, 234.12167, 248.13731, 228.05946, 242.07511, 212.06456, 226.08021, 240.09585, 176.04345, 190.05909, 204.07473, 218.09038, 246.12167, 246.07003, 235.98058, 249.99623, 182.05401, 196.06966, 210.0853, 238.11659, 216.07473, 230.09038, 244.10602, 180.07475, 208.10603, 222.12168, 216.05947, 230.07512, 228.07471, 242.09036, 219.98568, 234.00132, 184.06966, 198.08531, 226.11659, 207.05104, 221.0667, 249.09797, 223.04594, 237.0616, 219.0299, 233.04555, 247.0612, 177.04049, 191.05614, 219.08742, 233.10306, 245.04554, 249.04045, 237.04046, 177.01937, 191.035, 205.05065, 219.06629, 233.08194, 207.02991, 221.04555, 235.0612, 249.07685, 247.09759, 225.0616, 195.02992, 209.04556, 223.06121, 237.07686, 225.04046, 239.05611, 179.03501, 193.05066, 207.0663, 221.08195, 249.11323, 235.09759, 235.04594, 249.06159, 203.035, 217.05064, 231.06629, 245.08194, 229.05063, 243.06628, 179.05614, 177.05575, 191.07139, 219.10268, 233.11832, 247.13396, 205.08703, 205.03539, 219.05103, 233.06668, 239.07724, 197.06669, 211.08234, 234.97723, 248.99288, 213.04047, 227.05611, 241.07176, 195.05105, 209.06669, 231.05103, 245.06668, 197.04556, 211.06121, 225.07685, 239.0925, 175.0401, 189.05574, 203.07138, 217.08703, 245.11832, 227.03499, 241.05063, 243.05102, 231.10267, 181.05066, 195.0663, 223.09759, 237.11323, 209.08195, 181.07179, 201.04048, 215.05612, 229.07177, 227.07724, 165.05576, 179.0714, 207.10268, 221.11832, 235.13397, 249.14961, 243.08741, 189.04048, 203.05613, 231.08741, 245.10306, 185.04557, 199.06121, 213.07686, 241.10815, 187.04009, 201.05573, 215.07138, 229.08702, 243.10267, 193.08704, 227.0925, 213.05573, 227.07137, 241.08702, 247.08232, 235.08233, 183.06631, 197.08195, 225.11324, 239.12888, 211.09759, 217.07177, 205.07177, 241.09289, 173.04558, 201.07686, 215.0925, 229.10815, 243.12379, 230.98232, 244.99796, 181.08705, 209.11833, 223.13397, 195.10269, 225.05572, 239.07136, 193.07178, 161.04559, 189.07687, 203.09251, 240.96666, 175.07649, 189.09213, 217.12341, 231.13906, 173.06083, 187.07648, 201.09212, 229.12341, 243.13905, 215.10776, 203.10777, 223.08233, 177.09213, 205.12341, 175.06123, 171.06631, 185.08196, 199.0976, 227.12889, 187.06122, 248.99217, 185.06083, 199.07647, 213.09211, 241.1234, 191.10777, 200.97176, 214.98741, 243.0187, 227.10776, 213.11324, 183.10269, 225.09211, 239.10775, 221.06746, 232.99733, 235.08864, 249.10429, 197.11833, 241.17099, 179.10778, 234.97659, 239.08354, 173.08197, 187.09761]\n"
     ]
    }
   ],
   "source": [
    "# make a list of exact mass and relative abundance.\n",
    "mass_list = []\n",
    "rel_abundance = []\n",
    "for i in range(len(df)):\n",
    "    # allow entire spectrum for this one\n",
    "    if float(df['Mass'].iloc[i]) < 250 and \"No Hit\" not in df['Molecular Formula'].iloc[i]:\n",
    "        mass_list.append(float(df['Mass'].iloc[i]))\n",
    "        rel_abundance.append(float(df['Rel. Abundance'].iloc[i]))\n",
    "# now, \"renormalize\" the relative abundance.\n",
    "highest = max(rel_abundance)\n",
    "norm_factor = 100.0/highest\n",
    "normalized_abun = []\n",
    "for ab in rel_abundance:\n",
    "    normalized_abun.append(norm_factor*ab)\n",
    "print(f'{len(mass_list)} items in {mass_list}')\n"
   ]
  },
  {
   "cell_type": "code",
   "execution_count": 119,
   "metadata": {},
   "outputs": [],
   "source": [
    "# formose MOD output\n",
    "# ../main/glucose/glucose_degradation_output_10mar.txt\n",
    "data_mod = pd.read_csv('../main/formose/formose_output.txt', sep='\\t', names=['Generation', 'SMILES'])\n",
    "sim_masses = []\n",
    "for i in range(len(formose_mod)):\n",
    "    row = formose_mod.iloc[i]\n",
    "    mol = MolFromSmiles(row['SMILES'])\n",
    "    mol_wt = ExactMolWt(mol)\n",
    "    sim_masses.append(mol_wt)\n",
    "data_mod['Mol Wt'] = sim_masses"
   ]
  },
  {
   "cell_type": "code",
   "execution_count": 120,
   "metadata": {
    "scrolled": true
   },
   "outputs": [
    {
     "name": "stdout",
     "output_type": "stream",
     "text": [
      "Unique masses: 207\n",
      "Frequency of each mass [4, 4, 4, 1, 1, 4, 4, 4, 4, 1, 4, 2, 4, 12, 4, 2, 4, 3, 10, 12, 14, 13, 4, 5, 8, 1, 1, 2, 2, 20, 5, 62, 4, 37, 18, 20, 8, 4, 4, 1, 2, 5, 67, 2, 48, 106, 90, 35, 64, 17, 4, 13, 2, 7, 46, 2, 45, 75, 296, 67, 324, 54, 91, 144, 45, 18, 8, 4, 31, 38, 265, 68, 858, 82, 444, 712, 558, 155, 208, 49, 9, 26, 34, 162, 30, 400, 869, 791, 2490, 93, 1704, 356, 417, 524, 116, 9, 8, 555, 891, 14, 4078, 755, 4951, 970, 3207, 2880, 2684, 606, 672, 127, 16, 167, 51, 37, 4904, 412, 7689, 5622, 14500, 3193, 552, 7233, 1605, 1542, 290, 1934, 16, 14, 5047, 814, 11241, 5143, 3195, 19435, 11377, 10968, 9528, 2181, 1712, 368, 41, 722, 103, 211, 5280, 5855, 89, 2162, 30, 14, 2, 19, 2, 2, 132, 10, 6, 56, 31, 159, 314, 67, 1, 33, 321, 55, 4, 1, 42, 34, 41, 410, 628, 1569, 3, 457, 44, 113, 31, 768, 10, 7, 5, 45, 23, 130, 117, 371, 378, 936, 77, 37, 90, 246, 27, 14, 2448, 257, 2, 42, 121, 4, 21, 31, 2, 14, 3]\n"
     ]
    }
   ],
   "source": [
    "unique_sim_masses = list(set(sim_masses))\n",
    "unique_mass_freq = [sim_masses.count(mass) for mass in unique_sim_masses]\n",
    "highest_freq = max(unique_mass_freq)\n",
    "\n",
    "norm_freq = [100*(freq/highest_freq) for freq in unique_mass_freq]\n",
    "\n",
    "print('Unique masses:',len(unique_sim_masses))\n",
    "print('Frequency of each mass', unique_mass_freq)"
   ]
  },
  {
   "cell_type": "code",
   "execution_count": null,
   "metadata": {
    "scrolled": true
   },
   "outputs": [],
   "source": []
  },
  {
   "cell_type": "code",
   "execution_count": 121,
   "metadata": {},
   "outputs": [
    {
     "name": "stdout",
     "output_type": "stream",
     "text": [
      "[16.031300127999998, 28.031300127999998, 32.026214748, 108.057514876, 42.046950192, 43.98982924, 44.026214748, 46.005479304, 46.041864812, 54.046950192, 56.026214748, 113.99530854400001, 58.005479304000005, 58.041864812, 60.021129368000004, 60.057514876, 62.036779432, 122.07316494, 70.041864812, 72.021129368, 72.057514876, 74.036779432, 74.00039392400001, 76.016043988, 76.052429496, 117.99022316400001, 80.026214748, 118.099379688, 82.041864812, 84.021129368, 84.057514876, 86.036779432, 86.00039392400001, 88.052429496, 88.016043988, 90.031694052, 90.06807956, 92.047344116, 89.99530854400001, 86.07316494, 96.021129368, 96.057514876, 98.036779432, 98.00039392400001, 100.016043988, 100.052429496, 102.031694052, 102.06807956, 104.047344116, 104.01095860800001, 106.02660867200001, 106.06299418, 101.99530854400001, 104.083729624, 110.036779432, 108.021129368, 112.016043988, 112.052429496, 114.031694052, 114.06807956, 116.047344116, 116.01095860800001, 118.02660867200001, 118.06299418, 120.04225873600001, 120.078644244, 122.0579088, 120.00587322800001, 116.083729624, 124.052429496, 126.031694052, 126.06807956, 128.047344116, 128.010958608, 130.026608672, 130.06299418, 132.042258736, 132.078644244, 134.0579088, 134.021523292, 136.037173356, 136.073558864, 132.005873228, 138.031694052, 140.083729624, 140.047344116, 142.026608672, 142.06299418, 144.042258736, 144.005873228, 146.0579088, 146.021523292, 148.037173356, 148.073558864, 150.05282342, 150.01643791200001, 152.068473484, 144.078644244, 154.06299418, 148.00078784800002, 156.042258736, 156.078644244, 158.0579088, 158.021523292, 160.037173356, 160.073558864, 162.05282342, 162.089208928, 164.068473484, 164.032087976, 166.04773804, 162.01643791200001, 166.084123548, 160.00078784800002, 170.0579088, 170.021523292, 172.073558864, 172.037173356, 174.05282342, 174.089208928, 176.104858992, 176.068473484, 178.04773804, 178.084123548, 180.063388104, 176.032087976, 182.079038168, 180.02700259600002, 184.073558864, 184.037173356, 186.05282342, 186.089208928, 188.032087976, 188.068473484, 190.084123548, 190.04773804, 192.063388104, 192.099773612, 194.079038168, 194.04265266000002, 196.05830272400001, 192.02700259600002, 196.094688232, 190.01135253200002, 198.089208928, 198.05282342, 196.037173356, 196.073558864, 198.125594436, 198.01643791200001, 141.990223164, 142.099379688, 125.99530854400001, 130.099379688, 146.094294308, 136.052429496, 148.109944372, 150.089208928, 150.06807956, 152.047344116, 154.026608672, 156.005873228, 156.115029752, 128.083729624, 158.094294308, 160.109944372, 162.125594436, 163.99570246800002, 164.104858992, 164.047344116, 166.026608672, 166.06299418, 168.078644244, 168.042258736, 168.005873228, 170.094294308, 138.06807956, 172.109944372, 172.00078784800002, 174.01643791200001, 174.125594436, 175.99570246800002, 124.016043988, 178.01135253200002, 178.120509056, 178.06299418, 180.099773612, 180.078644244, 180.042258736, 182.0579088, 182.094294308, 182.021523292, 184.109944372, 186.01643791200001, 186.125594436, 187.99570246800002, 188.104858992, 190.120509056, 191.99061708800002, 140.010958608, 194.115423676, 194.00626715200002, 194.0579088, 196.109944372, 98.07316494, 134.094294308, 129.990223164]\n"
     ]
    }
   ],
   "source": [
    "print(unique_sim_masses)"
   ]
  },
  {
   "cell_type": "code",
   "execution_count": 122,
   "metadata": {},
   "outputs": [],
   "source": [
    "from matplotlib import rc\n",
    "\n",
    "# Use LaTeX and CMU Serif font.\n",
    "rc('text', usetex=True)\n",
    "rc('font', **{'family': 'serif', 'serif': ['Computer Modern']})"
   ]
  },
  {
   "cell_type": "code",
   "execution_count": 123,
   "metadata": {},
   "outputs": [
    {
     "data": {
      "image/png": "[encoded data removed]",
      "text/plain": [
       "<Figure size 432x864 with 2 Axes>"
      ]
     },
     "metadata": {
      "needs_background": "light"
     },
     "output_type": "display_data"
    }
   ],
   "source": [
    "# for some flexibility, create a container for the figure\n",
    "fig, axes = plt.subplots(nrows=2, ncols=1, figsize=(6, 12), sharex=True) # create a figure object\n",
    "#ax = fig.add_subplot(111) # create an axis object\n",
    "\n",
    "# first, draw the experimental spectrum\n",
    "axes[0].vlines(x=mass_list, ymin=0, ymax=normalized_abun, color='cornflowerblue')\n",
    "\n",
    "# now the CNRN\n",
    "axes[1].vlines(x=unique_sim_masses, ymin=0, ymax=norm_freq, color='deeppink')\n",
    "\n",
    "#plt.bar(mass_list, rel_abundance, width=0.5)\n",
    "axes[0].set_yscale('log')\n",
    "axes[1].set_yscale('log')\n",
    "axes[0].set_ylim([0.875, 125])\n",
    "axes[1].set_ylim([0.875, 125])\n",
    "plt.gca().invert_yaxis()\n",
    "plt.xlim(155, 205)\n",
    "plt.xlabel('Exact Mass')\n",
    "#plt.ylabel('Normalized Abundance')\n",
    "plt.tight_layout()\n",
    "plt.subplots_adjust(wspace=0, hspace=0)\n",
    "plt.savefig('formose_mirror_plot.jpg', dpi=300)\n",
    "plt.show()"
   ]
  },
  {
   "cell_type": "code",
   "execution_count": null,
   "metadata": {},
   "outputs": [],
   "source": []
  },
  {
   "cell_type": "code",
   "execution_count": null,
   "metadata": {},
   "outputs": [],
   "source": []
  }
 ],
 "metadata": {
  "kernelspec": {
   "display_name": "Python 3",
   "language": "python",
   "name": "python3"
  },
  "language_info": {
   "codemirror_mode": {
    "name": "ipython",
    "version": 3
   },
   "file_extension": ".py",
   "mimetype": "text/x-python",
   "name": "python",
   "nbconvert_exporter": "python",
   "pygments_lexer": "ipython3",
   "version": "3.8.5"
  }
 },
 "nbformat": 4,
 "nbformat_minor": 4
}
