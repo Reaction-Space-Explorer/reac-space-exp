{
 "cells": [
  {
   "cell_type": "code",
   "execution_count": 75,
   "metadata": {},
   "outputs": [],
   "source": [
    "import rdkit.Chem\n",
    "from rdkit.Chem import MolFromSmiles\n",
    "from rdkit.Chem.Descriptors import ExactMolWt\n",
    "from mordred import Calculator, descriptors\n",
    "import matplotlib.pyplot as plt"
   ]
  },
  {
   "cell_type": "markdown",
   "metadata": {},
   "source": [
    "I wanted to have to calculate only descriptors of my choice to avoid any unnessary computational overload. The way it can be done is [explained in this GitHub issue](https://github.com/mordred-descriptor/mordred/issues/73)\n",
    "## Note:\n",
    "This script currently calculates only 2D descriptors. Note that 3D descriptors (commented out in the cell below) can be easily calculated using Mordred too, it just required 3D structures (which can be generated either using DataWarrior or RDKit itself). Please see [this thread](https://github.com/mordred-descriptor/mordred/issues/93) for a detailed discussion (the last few comments explain how to do it step-by-step)."
   ]
  },
  {
   "cell_type": "code",
   "execution_count": 76,
   "metadata": {},
   "outputs": [],
   "source": [
    "desc_needed = {'SIC0': 'Basak SIC0',\n",
    "               'IC0': 'Basak IC0',\n",
    "               'CIC0': 'Basak CIC0',\n",
    "               #'nRot': 'Number of rotatable bonds',\n",
    "               #'nN': 'Number of Nitrogen atoms',\n",
    "               'nH': 'Number of Hydrogen atoms',\n",
    "               'nC': 'Number of Carbon atoms',\n",
    "               #'nS': 'Number of Sulphur atoms',\n",
    "               'nO': 'Number of Oxygen atoms',\n",
    "               #'nHBDon': 'Number of H-Bond donors',\n",
    "               #'nHBAcc': 'Number of H-Bond acceptors',\n",
    "               #'GeomDiameter': 'Geometrical Diameter',\n",
    "               #'GeomRadius': 'Geometrical Radius',\n",
    "               'TopoPSA': 'Topological PSA',\n",
    "               #'SLogP': 'SLogP',\n",
    "               #'RASA': 'RASA',\n",
    "               #'TASA': 'TASA',\n",
    "               #'TPSA': 'TPSA',\n",
    "               #'RNCS': 'RNCS',\n",
    "               #'RPCS': 'RPCS',\n",
    "               #'RPSA': 'RPSA'\n",
    "              }\n",
    "\n",
    "calc = Calculator(descriptors, ignore_3D=False)\n",
    "calc.descriptors = [d for d in calc.descriptors if str(d) in desc_needed.keys()]"
   ]
  },
  {
   "cell_type": "code",
   "execution_count": 77,
   "metadata": {},
   "outputs": [],
   "source": [
    "# I thought of creating a \"MoleculeInfo\" object which would store info about all descriptors\n",
    "# this wasn't needed, just one way I thought I could make the code more readable\n",
    "class MoleculeInfo:\n",
    "    def __init__(self, smiles, gen, mol):\n",
    "        self.smiles = smiles\n",
    "        self.gen = gen\n",
    "        self.mol = mol\n",
    "        # initialize the rest as -1 by default. Can assign them values later on.\n",
    "        self.numC = -1\n",
    "        self.numH = -1\n",
    "        self.numO = -1\n",
    "        self.IC0 = -1\n",
    "        self.SIC0 = -1\n",
    "        self.CIC0 = -1\n",
    "        self.TopoPSA = -1\n",
    "        \n",
    "    def __repr__(self):\n",
    "        # separate everything by a comma\n",
    "        return(','.join([('G' + str(self.gen)), self.smiles, str(self.numC), str(self.numH), str(self.numO),\n",
    "                         str(self.IC0), str(self.SIC0), str(self.CIC0), str(self.TopoPSA)]))"
   ]
  },
  {
   "cell_type": "markdown",
   "metadata": {},
   "source": [
    "Note: this part of the code was for some specialized purpose.\n",
    "Load the contents in the SDF and store them in a list."
   ]
  },
  {
   "cell_type": "code",
   "execution_count": 78,
   "metadata": {},
   "outputs": [
    {
     "data": {
      "text/plain": [
       "\"sdf_data = rdkit.Chem.SDMolSupplier('smi_siddhant.sdf')\\n# so sdf_data is apparently a list of RDKit Mol objects\\nfor item in sdf_data:\\n    smi = rdkit.Chem.MolToSmiles(item)\\n    print(smi)\""
      ]
     },
     "execution_count": 78,
     "metadata": {},
     "output_type": "execute_result"
    }
   ],
   "source": [
    "'''sdf_data = rdkit.Chem.SDMolSupplier('smi_siddhant.sdf')\n",
    "# so sdf_data is apparently a list of RDKit Mol objects\n",
    "for item in sdf_data:\n",
    "    smi = rdkit.Chem.MolToSmiles(item)\n",
    "    print(smi)'''"
   ]
  },
  {
   "cell_type": "code",
   "execution_count": 79,
   "metadata": {
    "scrolled": true
   },
   "outputs": [],
   "source": [
    "all_molecules_info = []\n",
    "# open the output .txt\n",
    "count = 0\n",
    "with open('../main/glucose/glucose_degradation_output.txt') as glu_out:\n",
    "    contents = glu_out.readlines()\n",
    "    for line in contents:\n",
    "        # get rid of \\n at the end of the line\n",
    "        line = line.rstrip('\\n')\n",
    "        # break line into components separated by a tabspace\n",
    "        comps = line.split(\"\\t\")\n",
    "        gen_num = int(comps[0][1])\n",
    "        smiles = comps[1]\n",
    "        mol = MolFromSmiles(smiles)\n",
    "        mol_info = MoleculeInfo(smiles, gen_num, mol)\n",
    "        all_molecules_info.append(mol_info)\n",
    "        # testing with the first 100 molecules\n",
    "        '''if count > 100:\n",
    "            break'''\n",
    "        count += 1"
   ]
  },
  {
   "cell_type": "code",
   "execution_count": 80,
   "metadata": {},
   "outputs": [
    {
     "name": "stderr",
     "output_type": "stream",
     "text": [
      "100%|██████████| 48401/48401 [00:39<00:00, 1231.74it/s]\n"
     ]
    }
   ],
   "source": [
    "result = calc.pandas([mol_info.mol for mol_info in all_molecules_info])"
   ]
  },
  {
   "cell_type": "code",
   "execution_count": 81,
   "metadata": {},
   "outputs": [
    {
     "data": {
      "text/html": [
       "<div>\n",
       "<style scoped>\n",
       "    .dataframe tbody tr th:only-of-type {\n",
       "        vertical-align: middle;\n",
       "    }\n",
       "\n",
       "    .dataframe tbody tr th {\n",
       "        vertical-align: top;\n",
       "    }\n",
       "\n",
       "    .dataframe thead th {\n",
       "        text-align: right;\n",
       "    }\n",
       "</style>\n",
       "<table border=\"1\" class=\"dataframe\">\n",
       "  <thead>\n",
       "    <tr style=\"text-align: right;\">\n",
       "      <th></th>\n",
       "      <th>nH</th>\n",
       "      <th>nC</th>\n",
       "      <th>nO</th>\n",
       "      <th>IC0</th>\n",
       "      <th>SIC0</th>\n",
       "      <th>CIC0</th>\n",
       "      <th>TopoPSA</th>\n",
       "    </tr>\n",
       "  </thead>\n",
       "  <tbody>\n",
       "    <tr>\n",
       "      <th>0</th>\n",
       "      <td>4</td>\n",
       "      <td>2</td>\n",
       "      <td>2</td>\n",
       "      <td>1.500000</td>\n",
       "      <td>0.500000</td>\n",
       "      <td>1.500000</td>\n",
       "      <td>37.30</td>\n",
       "    </tr>\n",
       "    <tr>\n",
       "      <th>1</th>\n",
       "      <td>8</td>\n",
       "      <td>4</td>\n",
       "      <td>4</td>\n",
       "      <td>1.500000</td>\n",
       "      <td>0.375000</td>\n",
       "      <td>2.500000</td>\n",
       "      <td>77.76</td>\n",
       "    </tr>\n",
       "    <tr>\n",
       "      <th>2</th>\n",
       "      <td>12</td>\n",
       "      <td>6</td>\n",
       "      <td>6</td>\n",
       "      <td>1.500000</td>\n",
       "      <td>0.327156</td>\n",
       "      <td>3.084963</td>\n",
       "      <td>118.22</td>\n",
       "    </tr>\n",
       "    <tr>\n",
       "      <th>3</th>\n",
       "      <td>12</td>\n",
       "      <td>6</td>\n",
       "      <td>7</td>\n",
       "      <td>1.516624</td>\n",
       "      <td>0.326587</td>\n",
       "      <td>3.127232</td>\n",
       "      <td>138.45</td>\n",
       "    </tr>\n",
       "    <tr>\n",
       "      <th>4</th>\n",
       "      <td>14</td>\n",
       "      <td>6</td>\n",
       "      <td>6</td>\n",
       "      <td>1.457266</td>\n",
       "      <td>0.310028</td>\n",
       "      <td>3.243174</td>\n",
       "      <td>121.38</td>\n",
       "    </tr>\n",
       "  </tbody>\n",
       "</table>\n",
       "</div>"
      ],
      "text/plain": [
       "   nH  nC  nO       IC0      SIC0      CIC0  TopoPSA\n",
       "0   4   2   2  1.500000  0.500000  1.500000    37.30\n",
       "1   8   4   4  1.500000  0.375000  2.500000    77.76\n",
       "2  12   6   6  1.500000  0.327156  3.084963   118.22\n",
       "3  12   6   7  1.516624  0.326587  3.127232   138.45\n",
       "4  14   6   6  1.457266  0.310028  3.243174   121.38"
      ]
     },
     "execution_count": 81,
     "metadata": {},
     "output_type": "execute_result"
    }
   ],
   "source": [
    "result.head()"
   ]
  },
  {
   "cell_type": "code",
   "execution_count": 82,
   "metadata": {},
   "outputs": [
    {
     "name": "stdout",
     "output_type": "stream",
     "text": [
      "index i= 25988\n"
     ]
    }
   ],
   "source": [
    "# was testing something\n",
    "to_find = 'C(C(C=O)(C(C(O)=O)=CCO)O)=O'\n",
    "for i in range(len(all_molecules_info)):\n",
    "    if all_molecules_info[i].smiles == to_find:\n",
    "        print('index i=', i)"
   ]
  },
  {
   "cell_type": "code",
   "execution_count": 83,
   "metadata": {
    "scrolled": true
   },
   "outputs": [
    {
     "name": "stdout",
     "output_type": "stream",
     "text": [
      "G1,C(CO)=O,2,4,2,1.5,0.5,1.5,37.3\n"
     ]
    }
   ],
   "source": [
    "start = 0 #23878\n",
    "#print(all_molecules_info[start])\n",
    "for i in range(start, len(result)):\n",
    "    all_molecules_info[i].numC = result['nC'].iloc[i]\n",
    "    all_molecules_info[i].numH = result['nH'].iloc[i]\n",
    "    all_molecules_info[i].numO = result['nO'].iloc[i]\n",
    "    all_molecules_info[i].IC0 = result['IC0'].iloc[i]\n",
    "    all_molecules_info[i].SIC0 = result['SIC0'].iloc[i]\n",
    "    all_molecules_info[i].CIC0 = result['CIC0'].iloc[i]\n",
    "    all_molecules_info[i].TopoPSA = result['TopoPSA'].iloc[i]\n",
    "\n",
    "# see the top item in the list\n",
    "print(all_molecules_info[0])\n"
   ]
  },
  {
   "cell_type": "code",
   "execution_count": 74,
   "metadata": {},
   "outputs": [
    {
     "name": "stdout",
     "output_type": "stream",
     "text": [
      "Finished writing <_io.TextIOWrapper name='descriptors_2d.csv' mode='w' encoding='UTF-8'>\n"
     ]
    }
   ],
   "source": [
    "with open('descriptors_2d.csv', 'w') as desc_csv:\n",
    "    desc_csv.write(','.join(['Generation', 'SMILES', 'numC', 'numH', 'numO', 'IC0', 'SIC0', 'CIC0', 'TopoPSA']))\n",
    "    desc_csv.write('\\n')\n",
    "    for info in all_molecules_info:\n",
    "        desc_csv.write(str(info))\n",
    "        desc_csv.write('\\n')\n",
    "print(\"Finished writing\", desc_csv)"
   ]
  },
  {
   "cell_type": "code",
   "execution_count": 34,
   "metadata": {
    "scrolled": true
   },
   "outputs": [
    {
     "name": "stdout",
     "output_type": "stream",
     "text": [
      "48401\n"
     ]
    }
   ],
   "source": [
    "print(len(result))"
   ]
  },
  {
   "cell_type": "markdown",
   "metadata": {},
   "source": [
    "The Dataframe can be easily exported into a CSV as well"
   ]
  },
  {
   "cell_type": "code",
   "execution_count": 33,
   "metadata": {},
   "outputs": [
    {
     "name": "stdout",
     "output_type": "stream",
     "text": [
      "<class 'numpy.int64'>\n"
     ]
    }
   ],
   "source": [
    "print(type(result['nH'].iloc[1]))"
   ]
  },
  {
   "cell_type": "code",
   "execution_count": 8,
   "metadata": {
    "scrolled": false
   },
   "outputs": [
    {
     "data": {
      "image/png": "[encoded data removed]",
      "text/plain": [
       "<Figure size 864x2304 with 8 Axes>"
      ]
     },
     "metadata": {
      "needs_background": "light"
     },
     "output_type": "display_data"
    }
   ],
   "source": [
    "fig = plt.figure(figsize=(12,32))\n",
    "axes = fig.subplots(nrows=4, ncols=2, sharex=True)\n",
    "for col_id, col in enumerate(result.columns):\n",
    "    axes[col_id%4, col_id//4].plot(weights_list, result[col], linestyle='', marker='o', markersize=2)\n",
    "    axes[col_id%4, col_id//4].set_ylabel(desc_needed[col])"
   ]
  },
  {
   "cell_type": "code",
   "execution_count": null,
   "metadata": {},
   "outputs": [],
   "source": []
  }
 ],
 "metadata": {
  "kernelspec": {
   "display_name": "my-rdkit-env",
   "language": "python",
   "name": "my-rdkit-env"
  },
  "language_info": {
   "codemirror_mode": {
    "name": "ipython",
    "version": 3
   },
   "file_extension": ".py",
   "mimetype": "text/x-python",
   "name": "python",
   "nbconvert_exporter": "python",
   "pygments_lexer": "ipython3",
   "version": "3.7.9"
  }
 },
 "nbformat": 4,
 "nbformat_minor": 4
}
